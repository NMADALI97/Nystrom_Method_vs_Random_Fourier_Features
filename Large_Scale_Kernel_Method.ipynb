{
  "nbformat": 4,
  "nbformat_minor": 0,
  "metadata": {
    "kernelspec": {
      "name": "python3",
      "display_name": "Python 3"
    },
    "language_info": {
      "codemirror_mode": {
        "name": "ipython",
        "version": 3
      },
      "file_extension": ".py",
      "mimetype": "text/x-python",
      "name": "python",
      "nbconvert_exporter": "python",
      "pygments_lexer": "ipython3",
      "version": "3.6.5"
    },
    "latex_envs": {
      "LaTeX_envs_menu_present": true,
      "autoclose": false,
      "autocomplete": true,
      "bibliofile": "biblio.bib",
      "cite_by": "apalike",
      "current_citInitial": 1,
      "eqLabelWithNumbers": true,
      "eqNumInitial": 1,
      "hotkeys": {
        "equation": "Ctrl-E",
        "itemize": "Ctrl-I"
      },
      "labels_anchors": false,
      "latex_user_defs": false,
      "report_style_numbering": false,
      "user_envs_cfg": false
    },
    "colab": {
      "name": "Large_Scale_Kernel_Method.ipynb",
      "provenance": [],
      "toc_visible": true
    },
    "accelerator": "GPU"
  },
  "cells": [
    {
      "cell_type": "markdown",
      "metadata": {
        "id": "IPaOxi0mX6Fc",
        "colab_type": "text"
      },
      "source": [
        "# Large Scale Kernel Method"
      ]
    },
    {
      "cell_type": "markdown",
      "metadata": {
        "id": "cVRom8E9X9Hs",
        "colab_type": "text"
      },
      "source": [
        "Authors: MADALI Nabil,Virgile Rennard,Mélanie Karlsen\n"
      ]
    },
    {
      "cell_type": "markdown",
      "metadata": {
        "id": "O4k9HSg4YHn2",
        "colab_type": "text"
      },
      "source": [
        "## Table of Contents\n",
        "\n",
        "0. [Introduction](#Introduction)\n",
        "1. [Kernel Methods ](#Kernel-Methods)\n",
        "2. [Random Fourier Features ](#Random-Fourier-Features) \n",
        "3. [Nyström Approximation ](#Nyström-Approximation)\n",
        "4. [Performance Overview ](#Performance-Overview)\n",
        "\n"
      ]
    },
    {
      "cell_type": "markdown",
      "metadata": {
        "id": "qMqSDNXbYMvD",
        "colab_type": "text"
      },
      "source": [
        "#Introduction\n",
        "In order to avoid calculating the kernel matrix, one common approach is to approximate a kernel learning problem with a linear prediction problem.  It is often achieved by generating a vector representation of data that approximates the kernel similarity between any two data points.  The best known approaches in this category are the  random Fourier features  and the Nystrom method . The random Fourier function and the Nystrom method have been successfully applied to effective kernel learning.  In this work, we examine the fundamental differences between these two approaches and how they affect generalization performance"
      ]
    },
    {
      "cell_type": "markdown",
      "metadata": {
        "id": "dHdxUqc4Yzgu",
        "colab_type": "text"
      },
      "source": [
        "#Kernel-Methods"
      ]
    },
    {
      "cell_type": "markdown",
      "metadata": {
        "id": "1vBUi4kTcF9A",
        "colab_type": "text"
      },
      "source": [
        "## SVM Classifier"
      ]
    },
    {
      "cell_type": "markdown",
      "metadata": {
        "id": "HY_N3DAOZLW-",
        "colab_type": "text"
      },
      "source": [
        "We’ll consider a binary classification framework. Suppose we have training observations $X_1,....,X_n \\in \\mathbb{R}^p$ , and training labels $y_1,....,y_n \\in \\{ -1, 1 \\}$\n",
        "\n",
        "We can define the non-linearly separable SVM framework as follows :\n",
        "\\begin{equation}\n",
        "min_{w \\in \\mathbb{R}^p,b \\in \\mathbb{R},\\epsilon \\in \\mathbb{R}^n } \\frac{1}{2} \\mid \\mid w  \\mid \\mid_{2}^{2} +\\sum_{i} \\epsilon_i\n",
        "\\end{equation}\n",
        "\n",
        "subject to :\n",
        "\n",
        "\\begin{equation}\n",
        "\\begin{split}\n",
        "y_i (W^T X +b ) & \\geq 1 - \\epsilon_i ,i=1,...,n \\\\\n",
        " &  \\epsilon_i \\geq 0 ,i=1,...,n\n",
        "\\end{split}\n",
        "\\end{equation}\n",
        "We can rewrite this as a dual problem using a Lagrange formulation :\n",
        "\\begin{equation}\n",
        "max_{\\alpha \\in \\mathbb{R}^n }  \\sum_i \\alpha_i - \\frac{1}{2} \\alpha_i \\alpha_j  y_i y_j  X_i^T X_j\n",
        "\\end{equation}\n",
        "\n",
        "subject to :\n",
        "\\begin{equation}\n",
        "\\begin{split}\n",
        " 0 & \\leq  \\alpha_i  \\leq C ,i=1,...,n \\\\\n",
        " &  \\epsilon_i  ,i=1,...,n\n",
        "\\end{split}\n",
        "\\end{equation}\n",
        "The binary classifier is : $f(x)=sign(\\sum_i  \\alpha_i   y_i   X_i^T X_i)$"
      ]
    },
    {
      "cell_type": "markdown",
      "metadata": {
        "id": "FVX7ueIqcKOQ",
        "colab_type": "text"
      },
      "source": [
        "## The kernel trick"
      ]
    },
    {
      "cell_type": "markdown",
      "metadata": {
        "id": "H6ZgJ_cxcNr1",
        "colab_type": "text"
      },
      "source": [
        "A symmetric function $K :  \\mathcal{X} \\times \\mathcal{X} \\rightarrow \\mathbb{R} $  is a kernel if there exists a mapping function $\\phi : \\mathcal{X} \\rightarrow \\mathbb{R}$ from the instance space $\\mathcal{X}$ to a Hilbert space H such that K can be written as an inner product in H :\n",
        "\n",
        "\n",
        "\\begin{equation}\n",
        "K(X,{X}')=<\\phi(X),\\phi({X}')>\n",
        "\\end{equation}\n",
        "\n",
        "The Kernel trick can be visualized as a projection of an initial problem with a complex decision frontier into feature space in which the decision frontier is way easier and faster to build.\n",
        "\n",
        "![alt text](https://maelfabien.github.io/assets/images/kernel_trick.jpg)\n",
        "\n",
        "The Kernel SVM can be expressed as :\n",
        "\n",
        "\\begin{equation}\n",
        "max_{\\alpha \\in \\mathbb{R}^n }  \\sum_i \\alpha_i - \\frac{1}{2} \\alpha_i \\alpha_j  y_i y_j  K(X_i^T, X_j)\n",
        "\\end{equation}\n",
        "\n",
        "subject to :\n",
        "\\begin{equation}\n",
        "\\begin{split}\n",
        " 0 & \\leq  \\alpha_i  \\leq C ,i=1,...,n \\\\\n",
        " &  \\sum_i \\alpha_i y_i=0  ,i=1,...,n\n",
        "\\end{split}\n",
        "\\end{equation}\n",
        "The binary classifier is : $f(x)=sign(\\sum_i  \\alpha_i   y_i   K(X_i^T ,X_i))$"
      ]
    },
    {
      "cell_type": "markdown",
      "metadata": {
        "ExecuteTime": {
          "end_time": "2019-03-06T21:55:46.837810Z",
          "start_time": "2019-03-06T21:55:46.833985Z"
        },
        "id": "wOoo2CqEXtXI",
        "colab_type": "text"
      },
      "source": [
        "### I.Import"
      ]
    },
    {
      "cell_type": "code",
      "metadata": {
        "ExecuteTime": {
          "end_time": "2019-03-06T23:39:07.366165Z",
          "start_time": "2019-03-06T23:39:07.350028Z"
        },
        "id": "pZqDXoYUXtXV",
        "colab_type": "code",
        "colab": {}
      },
      "source": [
        "import numpy as np\n",
        "from scipy import linalg\n",
        "import matplotlib.pyplot as plt\n",
        "from time import time\n",
        "from math import pi\n",
        "plt.style.use('ggplot')\n",
        "\n",
        "from sklearn.metrics import accuracy_score\n",
        "from sklearn.model_selection import train_test_split\n",
        "from sklearn.preprocessing import StandardScaler\n",
        "from sklearn.datasets import load_svmlight_file\n",
        "from sklearn.datasets import make_classification\n",
        "from sklearn.metrics.pairwise import rbf_kernel\n",
        "from sklearn.svm import SVC, LinearSVC\n",
        "\n",
        "from scipy.sparse.linalg import svds\n",
        "from scipy.linalg import svd\n",
        "from scipy.sparse import csc_matrix\n",
        "from numpy.linalg import multi_dot\n",
        "from numpy.linalg import norm"
      ],
      "execution_count": 0,
      "outputs": []
    },
    {
      "cell_type": "markdown",
      "metadata": {
        "id": "RgR1wVlVXtXq",
        "colab_type": "text"
      },
      "source": [
        "### II. Generate data"
      ]
    },
    {
      "cell_type": "code",
      "metadata": {
        "ExecuteTime": {
          "end_time": "2019-03-06T22:13:29.320009Z",
          "start_time": "2019-03-06T22:13:28.878511Z"
        },
        "id": "BrQww4EKXtXu",
        "colab_type": "code",
        "colab": {}
      },
      "source": [
        "X, y = make_classification(n_samples=100000)\n",
        "X_train, X_test, y_train, y_test = train_test_split(X, y, random_state=42)"
      ],
      "execution_count": 0,
      "outputs": []
    },
    {
      "cell_type": "code",
      "metadata": {
        "ExecuteTime": {
          "end_time": "2019-03-06T22:13:29.548085Z",
          "start_time": "2019-03-06T22:13:29.481266Z"
        },
        "id": "9HW8-szOXtX_",
        "colab_type": "code",
        "colab": {
          "base_uri": "https://localhost:8080/",
          "height": 70
        },
        "outputId": "f746f8e8-24dd-4f93-d523-89dd1fea3183"
      },
      "source": [
        "scaler = StandardScaler()\n",
        "X_train = scaler.fit_transform(X_train)\n",
        "X_test = scaler.transform(X_test)\n",
        "\n",
        "n1, p = X_train.shape\n",
        "n2 = X_test.shape[0]\n",
        "\n",
        "print(\"Training samples :\", n1)\n",
        "print(\"Test samples:\", n2)\n",
        "print(\"Features:\", p)"
      ],
      "execution_count": 3,
      "outputs": [
        {
          "output_type": "stream",
          "text": [
            "Training samples : 75000\n",
            "Test samples: 25000\n",
            "Features: 20\n"
          ],
          "name": "stdout"
        }
      ]
    },
    {
      "cell_type": "markdown",
      "metadata": {
        "id": "_73MMMj6XtYL",
        "colab_type": "text"
      },
      "source": [
        "### III. Linear SVC"
      ]
    },
    {
      "cell_type": "code",
      "metadata": {
        "ExecuteTime": {
          "end_time": "2019-03-06T22:13:31.019781Z",
          "start_time": "2019-03-06T22:13:30.680911Z"
        },
        "id": "7poLH6KiXtYO",
        "colab_type": "code",
        "colab": {
          "base_uri": "https://localhost:8080/",
          "height": 0
        },
        "outputId": "bd887ea5-a455-4716-82cc-0570f24ea0e4"
      },
      "source": [
        "# Train\n",
        "t0 = time()\n",
        "clf_lin = LinearSVC(dual=False)\n",
        "clf_lin.fit(X_train, y_train)\n",
        "print(\"done in %0.3fs\" % (time() - t0))"
      ],
      "execution_count": 4,
      "outputs": [
        {
          "output_type": "stream",
          "text": [
            "done in 0.119s\n"
          ],
          "name": "stdout"
        }
      ]
    },
    {
      "cell_type": "code",
      "metadata": {
        "ExecuteTime": {
          "end_time": "2019-03-06T22:13:31.974819Z",
          "start_time": "2019-03-06T22:13:31.953436Z"
        },
        "id": "ITPns-6lXtYa",
        "colab_type": "code",
        "colab": {
          "base_uri": "https://localhost:8080/",
          "height": 0
        },
        "outputId": "90d5639e-5b81-4e22-a99b-79df3dadc1f7"
      },
      "source": [
        "# Test\n",
        "t1 = time()\n",
        "timing_linear = time() - t1\n",
        "y_pred = clf_lin.predict(X_test)\n",
        "print(\"done in %0.3fs\" % (time() - t1))"
      ],
      "execution_count": 5,
      "outputs": [
        {
          "output_type": "stream",
          "text": [
            "done in 0.002s\n"
          ],
          "name": "stdout"
        }
      ]
    },
    {
      "cell_type": "code",
      "metadata": {
        "ExecuteTime": {
          "end_time": "2019-03-06T22:13:32.900717Z",
          "start_time": "2019-03-06T22:13:32.888271Z"
        },
        "id": "lHxRj9JeXtYk",
        "colab_type": "code",
        "colab": {
          "base_uri": "https://localhost:8080/",
          "height": 0
        },
        "outputId": "ffb8e435-7c86-41e9-97a4-54e4c321d4f6"
      },
      "source": [
        "# Accuracy\n",
        "accuracy_linear = accuracy_score(y_pred, y_test)\n",
        "print(\"classification accuracy: %0.3f\" % accuracy_linear)"
      ],
      "execution_count": 6,
      "outputs": [
        {
          "output_type": "stream",
          "text": [
            "classification accuracy: 0.888\n"
          ],
          "name": "stdout"
        }
      ]
    },
    {
      "cell_type": "markdown",
      "metadata": {
        "id": "giAWjPd-XtZW",
        "colab_type": "text"
      },
      "source": [
        "# Random-Fourier-Features"
      ]
    },
    {
      "cell_type": "markdown",
      "metadata": {
        "id": "G2v_OmuZe3Qy",
        "colab_type": "text"
      },
      "source": [
        "To accelerate the training of kernel machines,  Random Fourier Feature propose to map the input data to a randomized low-dimensional feature space and then apply existing fast linear methods. The randomized features are designed so that the inner products of the transformed data are approximately equal to those in the feature space of a user specified shift-invariant kernel.\n",
        "\n",
        "\n",
        "The first set of random features consists of random Fourier bases $cos(w^{'}x+b)$ where $w \\in \\mathbb{R}^d  $ and $b \\in \\mathbb{R}$ are random variables. These mappings project data points on a randomly chosen line,and then pass the resulting scalar through a sinusoidal function .Drawing the direction of these lines from an appropriate distribution guarantees that the product of two transformed points will approximate a desired shift-invariant kernel.The following classical theorem from harmonic analysis provides the key insight behind this trans-formation:\n",
        "\n",
        "##Bochner \n",
        "A continuous kernel k(x,y) =k(x−y) on $\\mathbb{R}^d $ is positive definite if and only if $k(\\delta )$ is the Fourier transform of a non-negative measure.\n",
        "\n",
        "If a shift-invariant kernel $k(\\delta )$ is properly scaled, Bochner’s theorem guarantees that its Fourier transform $p(w)$ is a proper probability distribution. Defining $\\zeta_w(x) =e^{j w^{'} x }$, we have\n",
        " \\begin{equation*}\n",
        "        k(x-y) = \\int_{\\mathbb{R}^d }p(w) e^{j w^{'} (x-y)  }\\partial w E_w [\\zeta_w(x) \\zeta_w(x)^{*}]\n",
        "    \\end{equation*}\n",
        "so $\\zeta_w(x) \\zeta_w(x)^{*}$ is an unbiased estimate of k(x,y) when w is drawn from p.\n",
        "\n",
        "Since both the probability distribution p(ω)and the kernel k(∆) are real, the integral converges when the complex exponentials are replaced with cosines. Therefore, we may obtain a real-valued mapping that satisfies the condition  $E [Z_w(x) Z_w(x)^{*}]= k(x,y)$ by setting $Z_w(x) =\\sqrt{2}cos(w^{'}x+b)$ where w is drawn from p(w) and b is drawn uniformly from $[0,2\\pi]$ That $Z_w(x)Z_w(y)$ has expected value k(x,y) is a consequence of the sum of angles formula.\n",
        "\n",
        "We can lower the variance of the estimate of the kernel by concatenating D randomly chosen $Z_w$ into one D-dimensional vector z and normalizing each component by $\\sqrt{D}$ The inner product $z(x)^{'}z(y) = \\frac{1}{D}  \\sum_{j=1}^D Z_{w_j}(x)Z_{w_j}(y) $ is a sample average of $Z_w$ and is there fore a lower variance approximation to the expectation.\n",
        "\n",
        "\n",
        "Since  $Z_w$  is bounded between $+ \\sqrt{2}$ and $- \\sqrt{2}$ or a fixed pair of points x and y, Hoeffd-ing’s inequality guarantees exponentially fast convergence in D between $z(x)^{'}z(y)$ and $k(x,y)$ :\n",
        "\n",
        "\\begin{equation*}\n",
        "        \\mathbb{P} ( \\mid z(x)^{'}z(y)- k(x,y) \\mid  \\geq \\epsilon  ) \\leq  2exp(-D \\epsilon^2 /d)\n",
        "    \\end{equation*}\n",
        " "
      ]
    },
    {
      "cell_type": "markdown",
      "metadata": {
        "id": "CIueQvg7gPNa",
        "colab_type": "text"
      },
      "source": [
        "## Pseudo-Code\n",
        "1. Set the number of random kernel features to c\n",
        "\n",
        "2. Draw $w_1,...,w_c \\sim P(W)$ and $b_1,...,b_c \\sim [0,2\\pi]$\n",
        "\n",
        "3. Map training points $x_1,....,x_n  \\in  \\mathbb{R}^p$  to their random kernel features $\\hat{\\phi}(X_1),...,\\hat{\\phi}(X_n) \\in \\mathbb{R}^c  $ where $\\hat{\\phi}(X_i)=\\sqrt{\\frac{2}{c}}cos(W_i^TX+b_j),j \\in [1,...,c] $ . c is present in the fraction to create a mean.\n",
        "4. Train a linear model (such as Linear SVM) on transformed data $\\hat{\\phi}(X_1),...,\\hat{\\phi}(X_n) \\in \\mathbb{R}^c $\n",
        "\n",
        "In other words, to speed up the whole training process and get results that tend to be similar to RBF kernel, we pre-process the data and apply a linear SVM on top. It can be shown that this approximation will converge to the RBF Kernel."
      ]
    },
    {
      "cell_type": "code",
      "metadata": {
        "ExecuteTime": {
          "end_time": "2019-03-06T22:45:58.610167Z",
          "start_time": "2019-03-06T22:45:58.604080Z"
        },
        "id": "FLi6Tke_XtZY",
        "colab_type": "code",
        "colab": {}
      },
      "source": [
        "def rank_trunc(gram_mat, k):\n",
        "    \n",
        "    u, s, vt = svds(gram_mat, k=k)\n",
        "    gram_mat_k = np.dot(u, np.dot(np.diag(s), vt))\n",
        "\n",
        "    return gram_mat_k"
      ],
      "execution_count": 0,
      "outputs": []
    },
    {
      "cell_type": "code",
      "metadata": {
        "ExecuteTime": {
          "end_time": "2019-03-06T22:46:43.038907Z",
          "start_time": "2019-03-06T22:46:43.023178Z"
        },
        "id": "t6i1DKjtXtZi",
        "colab_type": "code",
        "colab": {}
      },
      "source": [
        "def random_features(X_train, X_test, gamma, c=300, seed=42):\n",
        "\n",
        "    rng = np.random.RandomState(seed)\n",
        "    n_samples, n_features = X_train.shape\n",
        "    \n",
        "    W = np.random.normal(0, np.sqrt(2*gamma), (n_features, c))\n",
        "    b = np.random.uniform(0, 2*pi, (1,c))\n",
        "\n",
        "    X_new_train = np.sqrt(2/n_features) * np.cos(np.dot(X_train, W) + b)\n",
        "    X_new_test = np.sqrt(2/n_features) * np.cos(np.dot(X_test, W) + b)\n",
        "\n",
        "    return X_new_train, X_new_test"
      ],
      "execution_count": 0,
      "outputs": []
    },
    {
      "cell_type": "code",
      "metadata": {
        "id": "WIgwIQ6UXtZq",
        "colab_type": "code",
        "colab": {}
      },
      "source": [
        "n_samples, n_features = X_train.shape\n",
        "gamma = 1. / n_features"
      ],
      "execution_count": 0,
      "outputs": []
    },
    {
      "cell_type": "code",
      "metadata": {
        "id": "LT6m4IetXtZz",
        "colab_type": "code",
        "colab": {}
      },
      "source": [
        "Z_train, Z_test = random_features(X_train, X_test, gamma, c=800)"
      ],
      "execution_count": 0,
      "outputs": []
    },
    {
      "cell_type": "code",
      "metadata": {
        "ExecuteTime": {
          "end_time": "2019-03-06T22:59:42.794964Z",
          "start_time": "2019-03-06T22:58:54.087082Z"
        },
        "id": "a9YXI4KsXtZ7",
        "colab_type": "code",
        "colab": {
          "base_uri": "https://localhost:8080/",
          "height": 0
        },
        "outputId": "8e5a77f1-5f2e-448f-e842-38e195eca053"
      },
      "source": [
        "t0 = time()\n",
        "clf = LinearSVC(dual=False)\n",
        "clf.fit(Z_train, y_train)\n",
        "print(\"done in %0.3fs\" % (time() - t0))"
      ],
      "execution_count": 11,
      "outputs": [
        {
          "output_type": "stream",
          "text": [
            "done in 21.688s\n"
          ],
          "name": "stdout"
        }
      ]
    },
    {
      "cell_type": "code",
      "metadata": {
        "id": "MzN8hZbzXtaD",
        "colab_type": "code",
        "colab": {
          "base_uri": "https://localhost:8080/",
          "height": 0
        },
        "outputId": "d86d40ef-8414-4a0b-bd14-4c9ffca639d0"
      },
      "source": [
        "t1 = time()\n",
        "accuracy = clf.score(Z_test, y_test)\n",
        "print(\"done in %0.3fs\" % (time() - t1))\n",
        "print(\"classification accuracy: %0.3f\" % accuracy)"
      ],
      "execution_count": 12,
      "outputs": [
        {
          "output_type": "stream",
          "text": [
            "done in 0.032s\n",
            "classification accuracy: 0.912\n"
          ],
          "name": "stdout"
        }
      ]
    },
    {
      "cell_type": "markdown",
      "metadata": {
        "id": "of85ii1lXtaK",
        "colab_type": "text"
      },
      "source": [
        "# Nyström Approximation"
      ]
    },
    {
      "cell_type": "markdown",
      "metadata": {
        "id": "a6Zkv8D2i2mr",
        "colab_type": "text"
      },
      "source": [
        "The Nyström method is an efficient technique for  obtaining  a  low-rank  approximation  of a large  kernel  matrix  based  on  a  subset  of its  columns.    The  quality  of  the  Nyström approximation  highly  depends  on  the  sub-set  of  columns  used,  which  are  usually  selected  using  random  sampling .\n",
        "\n",
        "The  Nyström  method  starts  by  selecting  a  subset  of $l << n$ columns  of K usually  by random  sampling.These columns represent the similarities between the subset of l data instances and all data instances.  Let $S$ be the set of the indices of selected columns, and  $\\mathcal{R}$ be the set of the indices of remaining columns.  Without loss of generality, the columns and rows of K can be arranged as follows:\n",
        "\n",
        "\\begin{equation}\n",
        "  K=\n",
        "  \\begin{bmatrix}\n",
        "A & B \\\\ \n",
        " B^T& C\n",
        "\\end{bmatrix}\n",
        "\\end{equation}\n",
        "\n",
        "where A,B and C are  sub-matrices  of K whose  elements  are $ \\{ K_{i,j} : i,j \\in S \\}$\n",
        " ,$\\{ K_{i,j} : i \\in S ,j \\in S \\mathcal{R} \\}$ and  $\\{ K_{i,j} : i,j \\in \\mathcal{R} \\}$ respectively, and $K_{i,j}$ denotes the element of K at row i and column j.\n",
        " The Nyström method calculates a rank-l approxima-tion of K as (Williams and Seeger, 2001):\n",
        " \n",
        "\\begin{equation}\n",
        " \\hat{K}_S= D A^{-1} D^T\n",
        "\\end{equation}\n",
        "\n",
        "where D =$[A,B]^T$ is an $n \\times l $ matrix which consists of the selected columns of K.\n",
        "\n",
        "The  computational  complexity  of  calculating $A^{-1}$ is $\\mathcal{O}(l^3)$ ,and  those  of  calculating rank-k Nyström approximation is $\\mathcal{O}(l^3 +nlk +n^2k)$.\n",
        "\n",
        "It should  be  noted  that  the  approximate  singular  vectors,  as  well  as  the  basis  of  the k-dimensional  space are, however, non-orthonormal  (Kumar et al., 2009c).\n",
        "\n",
        "In  some  applications,  additional  steps  might  be  re-quired to obtain orthonormal vectors.  This, however,increases the computational complexity ."
      ]
    },
    {
      "cell_type": "markdown",
      "metadata": {
        "id": "QoTpjhDUjffv",
        "colab_type": "text"
      },
      "source": [
        "## Pseudo-code\n",
        "1. Sample a set I of c indices uniformly in 1,...,n\n",
        "\n",
        "2. Compute c $ \\in \\mathbb{R}^{n×c} $ with \n",
        "\\begin{equation}\n",
        " c_{ij}=K(X_i,X_j),i \\in 1,...,n , J \\in I\n",
        "\\end{equation}\n",
        "\n",
        "3. Form a matrix W $ \\in \\mathbb{R}^{c×c} $ with $W_{ij}=K(X_i,X_j),i,j \\in I $\n",
        "\n",
        "4. Compute $W_k \\in \\mathbb{R}^{c×c}$ the best rank-k approximation of W\n",
        "\n",
        "5. Compute the final rank-k matrix of G :\n",
        "\\begin{equation}\n",
        " \\hat{G}=CW_k^{-1}C^T \\in \\mathbb{R}^{n×n} \n",
        "\\end{equation}\n",
        "\n",
        "The complexity is \\mathcal{O}(c^3+nck) . The convergence of this approximation has also been demonstrated."
      ]
    },
    {
      "cell_type": "code",
      "metadata": {
        "ExecuteTime": {
          "end_time": "2019-03-06T23:39:11.123414Z",
          "start_time": "2019-03-06T23:39:11.100046Z"
        },
        "id": "Zt156pteXtaM",
        "colab_type": "code",
        "colab": {}
      },
      "source": [
        "def nystrom(X_train, X_test, gamma, c=500, k=200, seed=44):\n",
        "\n",
        "    rng = np.random.RandomState(seed)\n",
        "    n_samples = X_train.shape[0]\n",
        "    idx = rng.choice(n_samples, c)\n",
        "\n",
        "    X_train_idx = X_train[idx, :]\n",
        "\n",
        "    W = rbf_kernel(X_train_idx, X_train_idx, gamma=gamma)\n",
        "    \n",
        "    u, s, vt = linalg.svd(W, full_matrices=False)\n",
        "    \n",
        "    u = u[:,:k]\n",
        "    s = s[:k]\n",
        "    vt = vt[:k, :]\n",
        "    \n",
        "    M = np.dot(u, np.diag(1/np.sqrt(s)))\n",
        "    \n",
        "    C_train = rbf_kernel(X_train, X_train_idx, gamma=gamma)\n",
        "    C_test = rbf_kernel(X_test, X_train_idx, gamma=gamma)\n",
        "    \n",
        "    X_new_train = np.dot(C_train, M)\n",
        "    X_new_test = np.dot(C_test, M)\n",
        "    \n",
        "    return X_new_train, X_new_test"
      ],
      "execution_count": 0,
      "outputs": []
    },
    {
      "cell_type": "code",
      "metadata": {
        "ExecuteTime": {
          "end_time": "2019-03-06T23:39:17.818659Z",
          "start_time": "2019-03-06T23:39:11.622544Z"
        },
        "id": "-_q-OODcXtaU",
        "colab_type": "code",
        "colab": {}
      },
      "source": [
        "Z_train, Z_test = nystrom(X_train, X_test, gamma, c=500, k=300, seed=44)"
      ],
      "execution_count": 0,
      "outputs": []
    },
    {
      "cell_type": "code",
      "metadata": {
        "ExecuteTime": {
          "end_time": "2019-03-06T23:40:20.508156Z",
          "start_time": "2019-03-06T23:40:20.481910Z"
        },
        "id": "J8GjrlXpXtal",
        "colab_type": "code",
        "colab": {
          "base_uri": "https://localhost:8080/",
          "height": 53
        },
        "outputId": "d09221cb-b67d-4d87-c410-2a2b713310f4"
      },
      "source": [
        "t1 = time()\n",
        "accuracy = clf.score(Z_test, y_test)\n",
        "print(\"done in %0.3fs\" % (time() - t1))\n",
        "print(\"classification accuracy: %0.3f\" % accuracy)"
      ],
      "execution_count": 16,
      "outputs": [
        {
          "output_type": "stream",
          "text": [
            "done in 0.022s\n",
            "classification accuracy: 0.922\n"
          ],
          "name": "stdout"
        }
      ]
    },
    {
      "cell_type": "code",
      "metadata": {
        "ExecuteTime": {
          "end_time": "2019-03-06T23:40:18.854375Z",
          "start_time": "2019-03-06T23:40:03.578112Z"
        },
        "id": "aNeKXoT7Xtae",
        "colab_type": "code",
        "colab": {
          "base_uri": "https://localhost:8080/",
          "height": 35
        },
        "outputId": "8359c9b6-e6b5-48af-dc6a-f881d481eb2e"
      },
      "source": [
        "t0 = time()\n",
        "clf = LinearSVC(dual=False)\n",
        "clf.fit(Z_train, y_train)\n",
        "print(\"done in %0.3fs\" % (time() - t0))"
      ],
      "execution_count": 15,
      "outputs": [
        {
          "output_type": "stream",
          "text": [
            "done in 6.144s\n"
          ],
          "name": "stdout"
        }
      ]
    },
    {
      "cell_type": "markdown",
      "metadata": {
        "id": "d8RiPah4vTQU",
        "colab_type": "text"
      },
      "source": [
        "# Gaussian Kernel SVC"
      ]
    },
    {
      "cell_type": "code",
      "metadata": {
        "id": "0jg-_6MHvWTo",
        "colab_type": "code",
        "colab": {
          "base_uri": "https://localhost:8080/",
          "height": 35
        },
        "outputId": "849f82bb-3188-4e02-8485-bdf617d0f0bf"
      },
      "source": [
        "# Train\n",
        "t0 = time()\n",
        "clf = SVC(kernel='rbf')\n",
        "clf.fit(X_train, y_train)\n",
        "print(\"done in %0.3fs\" % (time() - t0))"
      ],
      "execution_count": 20,
      "outputs": [
        {
          "output_type": "stream",
          "text": [
            "done in 148.701s\n"
          ],
          "name": "stdout"
        }
      ]
    },
    {
      "cell_type": "code",
      "metadata": {
        "id": "wS-tGuZdvY1c",
        "colab_type": "code",
        "colab": {
          "base_uri": "https://localhost:8080/",
          "height": 35
        },
        "outputId": "14f974da-ea47-49dc-9671-2177c4fd24ab"
      },
      "source": [
        "# Test\n",
        "t1 = time()\n",
        "y_pred = clf.predict(X_test)\n",
        "timing_kernel = time() - t1\n",
        "print(\"done in %0.3fs\" % (time() - t1))"
      ],
      "execution_count": 21,
      "outputs": [
        {
          "output_type": "stream",
          "text": [
            "done in 18.598s\n"
          ],
          "name": "stdout"
        }
      ]
    },
    {
      "cell_type": "code",
      "metadata": {
        "id": "qQB_34TYvY6h",
        "colab_type": "code",
        "colab": {
          "base_uri": "https://localhost:8080/",
          "height": 35
        },
        "outputId": "e9ae7d72-f0cc-4187-bafd-a01b1f7ab89d"
      },
      "source": [
        "# Accuracy\n",
        "accuracy_kernel = accuracy_score(y_pred, y_test)\n",
        "print(\"classification accuracy: %0.3f\" % accuracy_kernel)\n",
        "\n"
      ],
      "execution_count": 22,
      "outputs": [
        {
          "output_type": "stream",
          "text": [
            "classification accuracy: 0.925\n"
          ],
          "name": "stdout"
        }
      ]
    },
    {
      "cell_type": "markdown",
      "metadata": {
        "id": "_RWqThfgXtax",
        "colab_type": "text"
      },
      "source": [
        "# Performance Overview"
      ]
    },
    {
      "cell_type": "code",
      "metadata": {
        "ExecuteTime": {
          "end_time": "2019-03-07T01:07:28.146932Z",
          "start_time": "2019-03-06T23:43:11.762606Z"
        },
        "id": "L6MdCy1fXtaz",
        "colab_type": "code",
        "colab": {
          "base_uri": "https://localhost:8080/",
          "height": 248
        },
        "outputId": "cf9f99a5-5209-4507-d72b-09bbae4d33ca"
      },
      "source": [
        "ranks = np.arange(20, 600, 50)\n",
        "n_ranks = len(ranks)\n",
        "\n",
        "timing_rkf = np.zeros(n_ranks)\n",
        "timing_nystrom = np.zeros(n_ranks)\n",
        "timing_linear = np.zeros(n_ranks)\n",
        "timing_rbf = np.zeros(n_ranks)\n",
        "\n",
        "accuracy_nystrom = np.zeros(n_ranks)\n",
        "accuracy_rkf = np.zeros(n_ranks)\n",
        "accuracy_linear = np.zeros(n_ranks)\n",
        "accuracy_rbf = np.zeros(n_ranks)\n",
        "\n",
        "print(\"Training SVMs for various values of c...\")\n",
        "\n",
        "for i, c in enumerate(ranks):\n",
        "    \n",
        "    print(i, c)\n",
        "\n",
        "    ## Nystorm\n",
        "    Z_ny_train, Z_ny_test = nystrom(X_train, X_test, gamma, c=c, k=300, seed=44)\n",
        "\n",
        "    t0 = time()\n",
        "    clf = LinearSVC(dual=False)\n",
        "    clf.fit(Z_ny_train, y_train)\n",
        "    accuracy_nystrom[i] = clf.score(Z_ny_test, y_test)\n",
        "    timing_nystrom[i] = time() - t0\n",
        "\n",
        "    ## Random Kernel Feature\n",
        "    Z_rkf_train, Z_rkf_test = random_features(X_train, X_test, gamma, c=c, seed=44)\n",
        "    t0 = time()\n",
        "    clf = LinearSVC(dual=False)\n",
        "    clf.fit(Z_rkf_train, y_train)\n",
        "    accuracy_rkf[i] = clf.score(Z_rkf_test, y_test)\n",
        "    timing_rkf[i] = time() - t0\n",
        "\n",
        "    ## Linear\n",
        "    t0 = time()\n",
        "    clf = LinearSVC(dual=False)\n",
        "    clf.fit(X_train, y_train)\n",
        "    accuracy_linear[i] = clf.score(X_test, y_test)\n",
        "    timing_linear[i] = time() - t0\n",
        "    \n",
        "    ## RBF\n",
        "    t0 = time()\n",
        "    clf = SVC(kernel='rbf')\n",
        "    clf.fit(X_train, y_train)\n",
        "    accuracy_rbf[i] = clf.score(X_test, y_test)\n",
        "    timing_rbf[i] = time() - t0"
      ],
      "execution_count": 17,
      "outputs": [
        {
          "output_type": "stream",
          "text": [
            "Training SVMs for various values of c...\n",
            "0 20\n",
            "1 70\n",
            "2 120\n",
            "3 170\n",
            "4 220\n",
            "5 270\n",
            "6 320\n",
            "7 370\n",
            "8 420\n",
            "9 470\n",
            "10 520\n",
            "11 570\n"
          ],
          "name": "stdout"
        }
      ]
    },
    {
      "cell_type": "code",
      "metadata": {
        "ExecuteTime": {
          "end_time": "2019-03-07T08:05:31.739789Z",
          "start_time": "2019-03-07T08:05:30.936611Z"
        },
        "id": "MpP2yG5uXtbJ",
        "colab_type": "code",
        "colab": {
          "base_uri": "https://localhost:8080/",
          "height": 441
        },
        "outputId": "20dd907c-f41c-4632-e7c7-c167e3306792"
      },
      "source": [
        "f, axes = plt.subplots(ncols=1, nrows=2, figsize=(10,6))\n",
        "ax1, ax2 = axes.ravel()\n",
        "\n",
        "ax1.plot(ranks-10, timing_nystrom, '-', label='Nystrom')\n",
        "ax1.plot(ranks, timing_rkf, '-', label='RKF')\n",
        "ax1.plot(ranks, timing_linear * np.ones(n_ranks), '-', label='LinearSVC')\n",
        "ax1.plot(ranks, timing_kernel * np.ones(n_ranks), '-', label='RBF')\n",
        "\n",
        "ax1.set_xlabel('Number of features')\n",
        "ax1.set_ylabel('Time')\n",
        "ax1.legend(loc='lower right')\n",
        "\n",
        "ax2.plot(ranks-10, accuracy_nystrom, '-', label='Nystrom')\n",
        "ax2.plot(ranks, accuracy_rkf, '-', label='RKF')\n",
        "ax2.plot(ranks, accuracy_linear * np.ones(n_ranks), '-', label='LinearSVC')\n",
        "ax2.plot(ranks, accuracy_kernel * np.ones(n_ranks), '-', label='RBF')\n",
        "ax2.set_xlabel('Number of features')\n",
        "ax2.set_ylabel('Accuracy')\n",
        "ax2.legend(loc='lower right')\n",
        "plt.tight_layout()\n",
        "plt.show()"
      ],
      "execution_count": 23,
      "outputs": [
        {
          "output_type": "display_data",
          "data": {
            "image/png": "[encoded data removed]",
            "text/plain": [
              "<Figure size 720x432 with 2 Axes>"
            ]
          },
          "metadata": {
            "tags": []
          }
        }
      ]
    },
    {
      "cell_type": "code",
      "metadata": {
        "id": "-AJtM4qCXtbR",
        "colab_type": "code",
        "colab": {}
      },
      "source": [
        ""
      ],
      "execution_count": 0,
      "outputs": []
    }
  ]
}